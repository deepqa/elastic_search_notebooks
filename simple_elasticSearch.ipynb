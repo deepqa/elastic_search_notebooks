{
 "cells": [
  {
   "cell_type": "markdown",
   "metadata": {},
   "source": [
    "# Searching Documents"
   ]
  },
  {
   "cell_type": "code",
   "execution_count": 1,
   "metadata": {
    "collapsed": true
   },
   "outputs": [],
   "source": [
    "import elasticsearch\n",
    "from elasticsearch import Elasticsearch\n",
    "es = Elasticsearch(hosts=['localhost:9200'])"
   ]
  },
  {
   "cell_type": "markdown",
   "metadata": {},
   "source": [
    "**Variables for query**"
   ]
  },
  {
   "cell_type": "code",
   "execution_count": 2,
   "metadata": {
    "collapsed": true
   },
   "outputs": [],
   "source": [
    "data_year = '2016'\n",
    "index_name = 'pubmed_baseline_'+ data_year"
   ]
  },
  {
   "cell_type": "markdown",
   "metadata": {},
   "source": [
    "**Basic Query: for testing connection**"
   ]
  },
  {
   "cell_type": "code",
   "execution_count": 3,
   "metadata": {
    "collapsed": false,
    "scrolled": true
   },
   "outputs": [
    {
     "name": "stdout",
     "output_type": "stream",
     "text": [
      "(u'17130968', u'[Short-term Lycopersicum esculentum consumption may increase plasma high density lipoproteins and decrease oxidative stress].')\n",
      "(u'17629300', u'Contribution of tomato phenolics to antioxidation and down-regulation of blood lipids.')\n",
      "(u'21755327', u'Effect of consumption of tomato juice enriched with n-3 polyunsaturated fatty acids on the lipid profile, antioxidant biomarker status, and cardiovascular disease risk in healthy women.')\n",
      "(u'24392102', u'The inhibitory effects of bioactive compounds of tomato juice binding to hepatic HMGCR: in vivo study and molecular modelling.')\n",
      "(u'15199897', u'Designer orange juice lowers cholesterol.')\n",
      "(u'17617941', u'Tomato juice decreases LDL cholesterol levels and increases LDL resistance to oxidation.')\n",
      "(u'17640421', u'Influence of lycopene and vitamin C from tomato juice on biomarkers of oxidative stress and inflammation.')\n",
      "(u'18342167', u'Citrate levels in fresh tomato juice: a possible dietary alternative to traditional citrate supplementation in stone-forming patients.')\n",
      "(u'14764424', u'Plant sterol-fortified orange juice effectively lowers cholesterol levels in mildly hypercholesterolemic healthy individuals.')\n",
      "(u'6470372', u'Taste responses to saltiness of experimentally prepared tomato juice samples.')\n"
     ]
    }
   ],
   "source": [
    "query = {\n",
    "    \"query\": {\n",
    "        \"multi_match\" : {\n",
    "              \"query\":    \"evidence tomato juice lowers cholesterol levels\", \n",
    "              \"fields\": [ \"abstract\", \"title\" ] \n",
    "        }\n",
    "    }\n",
    "}\n",
    "\n",
    "res = es.search(index=index_name, body=query) \n",
    "for doc in res['hits']['hits']:\n",
    "    #print(\"%s) %s\" % (doc['_id'], doc['_source']))\n",
    "    print(doc['_id'],doc['_source']['title'])"
   ]
  },
  {
   "cell_type": "markdown",
   "metadata": {},
   "source": [
    "## To see\n",
    "elasticsearch is performing poorly, we use our training data set to see what is wrong."
   ]
  },
  {
   "cell_type": "code",
   "execution_count": 4,
   "metadata": {
    "collapsed": true
   },
   "outputs": [],
   "source": [
    "# Training 6b document path\n",
    "doc_path = '/data1/bioasq/raw_dataset/BioASQ-trainingDataset6b.json'"
   ]
  },
  {
   "cell_type": "code",
   "execution_count": 5,
   "metadata": {
    "collapsed": false
   },
   "outputs": [],
   "source": [
    "import json\n",
    "\n",
    "def return_question_document_pairs(doc_path):\n",
    "    \"\"\"\n",
    "    Returns: a dictionary with keys: question_body and values\n",
    "    equal to the array of documents\n",
    "    \"\"\"\n",
    "    with open(doc_path) as json_data:\n",
    "        training_data = json.load(json_data)\n",
    "        pair_que_doc = {}\n",
    "        for question in training_data[\"questions\"]:\n",
    "            pair_que_doc[ question[\"body\"] ] = question[\"documents\"]\n",
    "        return pair_que_doc\n",
    "    return"
   ]
  },
  {
   "cell_type": "markdown",
   "metadata": {},
   "source": [
    "**Function to search the questions from the training set on elasticsearch**"
   ]
  },
  {
   "cell_type": "code",
   "execution_count": 6,
   "metadata": {
    "collapsed": true
   },
   "outputs": [],
   "source": [
    "def search_question(question_to_search):\n",
    "    \"\"\"\n",
    "    Returns: A list with de documents that returns\n",
    "    elasticsearch for a given question\n",
    "    \"\"\"\n",
    "    documents_found = set()\n",
    "    query = {\n",
    "         \"query\": {\n",
    "             \"multi_match\" : {\n",
    "                \"query\":    question_to_search, \n",
    "                \"fields\": [ \"abstract\", \"title\" ] \n",
    "             }\n",
    "         }\n",
    "     }\n",
    "    res = es.search(index=index_name, body=query)\n",
    "    for doc in res['hits']['hits']:\n",
    "        documents_found.add(doc['_id'])\n",
    "    return documents_found"
   ]
  },
  {
   "cell_type": "markdown",
   "metadata": {},
   "source": [
    "**Measure of recall and presicion**"
   ]
  },
  {
   "cell_type": "code",
   "execution_count": 7,
   "metadata": {
    "collapsed": false
   },
   "outputs": [],
   "source": [
    "def print_measures(question_to_start, number_of_questions_to_visit):\n",
    "\n",
    "    questions_training = return_question_document_pairs(doc_path)\n",
    "    questions_body = questions_training.keys()\n",
    "    last_url_section = lambda x: x.split(\"/\")[-1] # Select last part of url to identify id\n",
    "    \n",
    "    recall_total = 0\n",
    "    precision_total = 0\n",
    "    \n",
    "    for i in range(question_to_start, number_of_questions_to_visit):\n",
    "        question = questions_body[i]\n",
    "        relevant_documents = set(map(last_url_section, questions_training[question]))    \n",
    "        retrieved_documents = search_question(question)\n",
    "        \n",
    "        \n",
    "        recall_total += len(relevant_documents.intersection(retrieved_documents))/len(relevant_documents)\n",
    "        precision_total += len(relevant_documents.intersection(retrieved_documents))/len(retrieved_documents)\n",
    "\n",
    "\n",
    "    print \"Recall:\",float(recall_total)/number_of_questions_to_visit\n",
    "    print \"Precision:\",float(precision_total)/number_of_questions_to_visit"
   ]
  },
  {
   "cell_type": "code",
   "execution_count": 8,
   "metadata": {
    "collapsed": false
   },
   "outputs": [
    {
     "name": "stdout",
     "output_type": "stream",
     "text": [
      "Recall: 0.07\n",
      "Precision: 0.0\n"
     ]
    }
   ],
   "source": [
    "print_measures(0, 100)"
   ]
  },
  {
   "cell_type": "markdown",
   "metadata": {},
   "source": [
    "**Changing baseline**"
   ]
  },
  {
   "cell_type": "code",
   "execution_count": 9,
   "metadata": {
    "collapsed": true
   },
   "outputs": [],
   "source": [
    "data_year = '2018'\n",
    "index_name = 'pubmed_baseline_'+ data_year"
   ]
  },
  {
   "cell_type": "code",
   "execution_count": null,
   "metadata": {
    "collapsed": false
   },
   "outputs": [],
   "source": [
    "print_measures(0, 100)"
   ]
  },
  {
   "cell_type": "code",
   "execution_count": null,
   "metadata": {
    "collapsed": true
   },
   "outputs": [],
   "source": []
  }
 ],
 "metadata": {
  "kernelspec": {
   "display_name": "Py2_k2 arm",
   "language": "python",
   "name": "py2keras2"
  },
  "language_info": {
   "codemirror_mode": {
    "name": "ipython",
    "version": 2
   },
   "file_extension": ".py",
   "mimetype": "text/x-python",
   "name": "python",
   "nbconvert_exporter": "python",
   "pygments_lexer": "ipython2",
   "version": "2.7.13"
  }
 },
 "nbformat": 4,
 "nbformat_minor": 0
}
